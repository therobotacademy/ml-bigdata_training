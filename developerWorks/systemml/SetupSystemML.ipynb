{
 "cells": [
  {
   "cell_type": "code",
   "execution_count": 1,
   "metadata": {},
   "outputs": [
    {
     "name": "stdout",
     "output_type": "stream",
     "text": [
      "Collecting http://www.romeokienzler.com/systemml-1.0.0-SNAPSHOT-python.tar.gz\n",
      "  Downloading http://www.romeokienzler.com/systemml-1.0.0-SNAPSHOT-python.tar.gz (10.3MB)\n",
      "\u001b[K    100% |████████████████████████████████| 10.3MB 105.7MB/s ta 0:00:01\n",
      "\u001b[?25hRequirement already up-to-date: numpy>=1.8.2 in /gpfs/global_fs01/sym_shared/YPProdSpark/user/se2e-1a118c4f322670-980ba6aaa6c3/.local/lib/python2.7/site-packages (from systemml==1.0.0)\n",
      "Requirement already up-to-date: scipy>=0.15.1 in /gpfs/global_fs01/sym_shared/YPProdSpark/user/se2e-1a118c4f322670-980ba6aaa6c3/.local/lib/python2.7/site-packages (from systemml==1.0.0)\n",
      "Requirement already up-to-date: pandas in /gpfs/global_fs01/sym_shared/YPProdSpark/user/se2e-1a118c4f322670-980ba6aaa6c3/.local/lib/python2.7/site-packages (from systemml==1.0.0)\n",
      "Requirement already up-to-date: scikit-learn in /gpfs/global_fs01/sym_shared/YPProdSpark/user/se2e-1a118c4f322670-980ba6aaa6c3/.local/lib/python2.7/site-packages (from systemml==1.0.0)\n",
      "Collecting Pillow>=2.0.0 (from systemml==1.0.0)\n",
      "  Downloading Pillow-4.3.0-cp27-cp27mu-manylinux1_x86_64.whl (5.8MB)\n",
      "\u001b[K    100% |████████████████████████████████| 5.8MB 208kB/s eta 0:00:01\n",
      "\u001b[?25hRequirement already up-to-date: pytz>=2011k in /usr/local/src/bluemix_jupyter_bundle.v65/notebook/lib/python2.7/site-packages (from pandas->systemml==1.0.0)\n",
      "Requirement already up-to-date: python-dateutil in /gpfs/global_fs01/sym_shared/YPProdSpark/user/se2e-1a118c4f322670-980ba6aaa6c3/.local/lib/python2.7/site-packages (from pandas->systemml==1.0.0)\n",
      "Requirement already up-to-date: olefile in /gpfs/global_fs01/sym_shared/YPProdSpark/user/se2e-1a118c4f322670-980ba6aaa6c3/.local/lib/python2.7/site-packages (from Pillow>=2.0.0->systemml==1.0.0)\n",
      "Requirement already up-to-date: six>=1.5 in /gpfs/global_fs01/sym_shared/YPProdSpark/user/se2e-1a118c4f322670-980ba6aaa6c3/.local/lib/python2.7/site-packages (from python-dateutil->pandas->systemml==1.0.0)\n",
      "Building wheels for collected packages: systemml\n",
      "  Running setup.py bdist_wheel for systemml ... \u001b[?25ldone\n",
      "\u001b[?25h  Stored in directory: /gpfs/fs01/user/se2e-1a118c4f322670-980ba6aaa6c3/.cache/pip/wheels/78/53/6b/adebb4a5917de5e62fcf950107dfe5e7c66a46a6f3340829f5\n",
      "Successfully built systemml\n",
      "Installing collected packages: Pillow, systemml\n",
      "  Found existing installation: Pillow 4.2.1\n",
      "    Uninstalling Pillow-4.2.1:\n",
      "      Successfully uninstalled Pillow-4.2.1\n",
      "  Found existing installation: systemml 1.0.0\n",
      "    Uninstalling systemml-1.0.0:\n",
      "      Successfully uninstalled systemml-1.0.0\n",
      "Successfully installed Pillow-4.3.0 systemml-1.0.0\n",
      "Archiver-Version: Plexus Archiver\n",
      "Artifact-Id: systemml\n",
      "Build-Jdk: 1.8.0_144\n",
      "Build-Time: 2017-09-21 22:44:37 UTC\n",
      "Built-By: romeokienzler\n",
      "Created-By: Apache Maven 3.3.9\n",
      "Group-Id: org.apache.systemml\n",
      "Main-Class: org.apache.sysml.api.DMLScript\n",
      "Manifest-Version: 1.0\n",
      "Minimum-Recommended-Spark-Version: 2.1.0\n",
      "Version: 1.0.0-SNAPSHOT\n",
      "\n"
     ]
    },
    {
     "data": {
      "text/plain": [
       "u'2.1.0'"
      ]
     },
     "execution_count": 1,
     "metadata": {},
     "output_type": "execute_result"
    }
   ],
   "source": [
    "!pip install --upgrade http://www.romeokienzler.com/systemml-1.0.0-SNAPSHOT-python.tar.gz \n",
    "from systemml import MLContext, dml, jvm_stdout\n",
    "ml = MLContext(sc)\n",
    "print(ml.info())\n",
    "sc.version"
   ]
  },
  {
   "cell_type": "code",
   "execution_count": null,
   "metadata": {
    "collapsed": true
   },
   "outputs": [],
   "source": [
    "# Create symbolic link in ~/data/libs to use site-packages SystemML jar as opposed to DSX platform SystemML jar\n",
    "!ln -s -f ~/.local/lib/python2.7/site-packages/systemml/systemml-java/systemml-1.0.0-SNAPSHOT-extra.jar ~/data/libs/systemml-1.0.0-SNAPSHOT-extra.jar\n",
    "!ln -s -f ~/.local/lib/python2.7/site-packages/systemml/systemml-java/systemml-1.0.0-SNAPSHOT.jar ~/data/libs/systemml-1.0.0-SNAPSHOT.jar"
   ]
  }
 ],
 "metadata": {
  "kernelspec": {
   "display_name": "Python 2 with Spark 2.1",
   "language": "python",
   "name": "python2-spark21"
  },
  "language_info": {
   "codemirror_mode": {
    "name": "ipython",
    "version": 2
   },
   "file_extension": ".py",
   "mimetype": "text/x-python",
   "name": "python",
   "nbconvert_exporter": "python",
   "pygments_lexer": "ipython2",
   "version": "2.7.11"
  }
 },
 "nbformat": 4,
 "nbformat_minor": 1
}
