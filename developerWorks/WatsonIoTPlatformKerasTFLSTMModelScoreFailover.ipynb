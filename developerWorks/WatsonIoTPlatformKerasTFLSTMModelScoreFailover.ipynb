{
 "cells": [
  {
   "cell_type": "code",
   "execution_count": 1,
   "metadata": {
    "collapsed": true
   },
   "outputs": [],
   "source": [
    "#!wget https://raw.githubusercontent.com/romeokienzler/developerWorks/master/model.h5\n",
    "#!wget https://raw.githubusercontent.com/romeokienzler/developerWorks/master/model.json"
   ]
  },
  {
   "cell_type": "code",
   "execution_count": 2,
   "metadata": {
    "collapsed": true
   },
   "outputs": [],
   "source": [
    "#!rm watsoniotp.*\n",
    "#!wget https://raw.githubusercontent.com/romeokienzler/developerWorks/master/watsoniotp.healthy.phase_aligned.pickle\n",
    "#!wget https://raw.githubusercontent.com/romeokienzler/developerWorks/master/watsoniotp.broken.phase_aligned.pickle"
   ]
  },
  {
   "cell_type": "code",
   "execution_count": 3,
   "metadata": {},
   "outputs": [
    {
     "name": "stderr",
     "output_type": "stream",
     "text": [
      "Using TensorFlow backend.\n"
     ]
    }
   ],
   "source": [
    "import numpy as np\n",
    "from numpy import concatenate\n",
    "from matplotlib import pyplot\n",
    "from pandas import read_csv\n",
    "from pandas import DataFrame\n",
    "from pandas import concat\n",
    "import sklearn\n",
    "from  sklearn.preprocessing import MinMaxScaler\n",
    "from sklearn.preprocessing import MinMaxScaler\n",
    "from sklearn.preprocessing import LabelEncoder\n",
    "from sklearn.metrics import mean_squared_error\n",
    "from keras.models import Sequential\n",
    "from keras.layers import Dense\n",
    "from keras.layers import LSTM\n",
    "from keras.callbacks import Callback\n",
    "from keras.models import Sequential\n",
    "from keras.layers import LSTM, Dense, Activation\n",
    "from keras.models import model_from_json\n",
    "import pickle\n",
    "import matplotlib.pyplot as plt\n",
    "from mpl_toolkits.mplot3d import Axes3D\n",
    "import ibmiotf.application\n",
    "import time\n",
    "from Queue import Queue\n",
    "import numpy as np\n",
    "import sys\n",
    "%matplotlib inline"
   ]
  },
  {
   "cell_type": "code",
   "execution_count": 4,
   "metadata": {
    "collapsed": true
   },
   "outputs": [],
   "source": [
    "def scaleData(data):\n",
    "    # normalize features\n",
    "    scaler = MinMaxScaler(feature_range=(0, 1))\n",
    "    return scaler.fit_transform(data)"
   ]
  },
  {
   "cell_type": "code",
   "execution_count": 5,
   "metadata": {
    "collapsed": true
   },
   "outputs": [],
   "source": [
    "timesteps = 10\n",
    "dim = 3\n",
    "samples = 3000"
   ]
  },
  {
   "cell_type": "code",
   "execution_count": 6,
   "metadata": {
    "collapsed": true
   },
   "outputs": [],
   "source": [
    "losses = []\n",
    "\n",
    "def handleLoss(loss):\n",
    "        global losses\n",
    "        losses+=[loss]\n",
    "        print loss"
   ]
  },
  {
   "cell_type": "code",
   "execution_count": 7,
   "metadata": {
    "collapsed": true
   },
   "outputs": [],
   "source": [
    "class LossHistory(Callback):\n",
    "    def on_train_begin(self, logs={}):\n",
    "        self.losses = []\n",
    "\n",
    "    def on_batch_end(self, batch, logs={}):\n",
    "        self.losses.append(logs.get('loss'))\n",
    "        handleLoss(logs.get('loss'))"
   ]
  },
  {
   "cell_type": "code",
   "execution_count": 8,
   "metadata": {},
   "outputs": [
    {
     "name": "stdout",
     "output_type": "stream",
     "text": [
      "Loaded model from disk\n"
     ]
    }
   ],
   "source": [
    "# design network\n",
    "model = None\n",
    "\n",
    "def reloadModel():\n",
    "    global model\n",
    "    json_file = open('model.json', 'r')\n",
    "    loaded_model_json = json_file.read()\n",
    "    json_file.close()\n",
    "    model = model_from_json(loaded_model_json)\n",
    "    # load weights into new model\n",
    "    model.load_weights(\"model.h5\")\n",
    "    print(\"Loaded model from disk\")\n",
    "    model.compile(loss='mae', optimizer='adam')\n",
    "\n",
    "reloadModel()\n",
    "\n",
    "def train(data):\n",
    "    data.shape = (300, 10, 3)\n",
    "    model.fit(data, data, epochs=15, batch_size=72, validation_data=(data, data), verbose=0, shuffle=False,callbacks=[LossHistory()])\n",
    "    data.shape = (3000, 3)\n",
    "\n",
    "def score(data):\n",
    "    data.shape = (300, 10, 3)\n",
    "    yhat =  model.predict(data)\n",
    "    yhat.shape = (3000, 3)\n",
    "    return yhat"
   ]
  },
  {
   "cell_type": "code",
   "execution_count": 9,
   "metadata": {},
   "outputs": [
    {
     "name": "stderr",
     "output_type": "stream",
     "text": [
      "2017-12-12 15:58:51,368   ibmiotf.application.Client  INFO    Connected successfully: a:li9sqf:anything\n"
     ]
    }
   ],
   "source": [
    "options = {\"org\": \"li9sqf\", \"id\": \"anything\", \"auth-method\": \"apikey\", \"auth-key\": \"a-li9sqf-r5xjkaa1dw\", \"auth-token\": \"CbPkw)xO0tS3arK?iT\"}\n",
    "client = ibmiotf.application.Client(options)\n",
    "client.connect()"
   ]
  },
  {
   "cell_type": "code",
   "execution_count": 10,
   "metadata": {
    "collapsed": true
   },
   "outputs": [],
   "source": [
    "q = Queue(7000)\n",
    "simulator_status = 'disablesimulator'"
   ]
  },
  {
   "cell_type": "code",
   "execution_count": 11,
   "metadata": {},
   "outputs": [
    {
     "data": {
      "text/plain": [
       "True"
      ]
     },
     "execution_count": 11,
     "metadata": {},
     "output_type": "execute_result"
    }
   ],
   "source": [
    "def myEventCallback(event):\n",
    "    global simulator_status\n",
    "    if event.event == 'switch':\n",
    "        simulator_status = event.data[\"message\"]\n",
    "        client.publishEvent(\"0.16.2\", \"lorenz\", \"switch_confirm\", \"json\", simulator_status)\n",
    "    if event.event == 'osc':\n",
    "        sample = event.data\n",
    "        point = [sample[\"x\"], sample[\"y\"],sample[\"z\"]]\n",
    "        q.put(point)\n",
    "\n",
    "client.deviceEventCallback = myEventCallback\n",
    "client.subscribeToDeviceEvents(\"0.16.2\", \"lorenz\", \"switch\")\n",
    "client.subscribeToDeviceEvents(\"0.16.2\", \"lorenz\", \"osc\")\n",
    "client.publishEvent(\"0.16.2\", \"lorenz\", \"alert\", \"json\", {'message' : 'no alert'})"
   ]
  },
  {
   "cell_type": "code",
   "execution_count": 12,
   "metadata": {
    "collapsed": true
   },
   "outputs": [],
   "source": [
    "def doNN(data):\n",
    "    data_scaled = scaleData(data)\n",
    "    train(data_scaled)\n",
    "    yhat = score(data_scaled)\n",
    "    data_scaled.shape = (3000, 3)"
   ]
  },
  {
   "cell_type": "code",
   "execution_count": null,
   "metadata": {
    "collapsed": true
   },
   "outputs": [],
   "source": [
    "#do_reset = False\n",
    "#reset_start = 0\n",
    "\n",
    "def handleLoss(loss):\n",
    "    #global do_reset\n",
    "    #global reset_start\n",
    "    sys.stdout.write('*')\n",
    "    sys.stdout.flush()\n",
    "    myData={'loss' : str(loss)}\n",
    "    client.publishEvent(\"0.16.2\", \"lorenz\", \"status\", \"json\", myData)\n",
    "    if loss > 0.08:\n",
    "        print \"loss > 0.08\"\n",
    "        #do_reset = True\n",
    "        #reset_start = int(time.time())\n",
    "        client.publishEvent(\"0.16.2\", \"lorenz\", \"alert\", \"json\", {'message' : 'alert'})\n",
    "    #if do_reset:\n",
    "        #if reset_start + 15 < int(time.time()):\n",
    "            #print \"resetting\"\n",
    "            #client.publishEvent(\"0.16.2\", \"lorenz\", \"alert\", \"json\", {'message' : 'no alert'})\n",
    "            #reloadModel()\n",
    "            #do_reset = False\n",
    "            #reset_start = 0\n",
    "        "
   ]
  },
  {
   "cell_type": "code",
   "execution_count": null,
   "metadata": {},
   "outputs": [
    {
     "name": "stdout",
     "output_type": "stream",
     "text": [
      "........................................................Loaded model from disk\n",
      "Sending healthy window downstream to the neural network...\n",
      "***************************************************************************Training finished...\n",
      "Sending broken window downstream to the neural network...\n",
      "*loss > 0.1\n",
      "**************************************************************************Training finished......\n",
      "Loaded model from disk\n",
      "Loaded model from disk\n",
      "Sending healthy window downstream to the neural network...\n",
      "***************************************************************************Training finished...\n",
      "Sending broken window downstream to the neural network...\n",
      "*loss > 0.1\n",
      "**************************************************************************Training finished......\n",
      "Loaded model from disk\n",
      "Loaded model from disk\n",
      "Sending healthy window downstream to the neural network...\n",
      "***************************************************************************Training finished...\n",
      "Sending broken window downstream to the neural network...\n",
      "*loss > 0.1\n",
      "**************************************************************************Training finished......\n",
      "Loaded model from disk\n",
      "Loaded model from disk\n",
      "Sending healthy window downstream to the neural network...\n",
      "***************************************************************************Training finished...\n",
      "Sending broken window downstream to the neural network...\n",
      "*loss > 0.1\n",
      "**************************************************************************Training finished......\n",
      "Loaded model from disk\n",
      "Loaded model from disk\n",
      "Sending healthy window downstream to the neural network...\n",
      "***************************************************************************Training finished...\n",
      "Sending broken window downstream to the neural network...\n",
      "*loss > 0.1\n",
      "**************************************************************************Training finished......\n",
      "Loaded model from disk\n",
      "Loaded model from disk\n",
      "Sending healthy window downstream to the neural network...\n",
      "***************************************************************************Training finished...\n",
      "Loaded model from disk\n",
      "Sending healthy window downstream to the neural network...\n",
      "***************************************************************************Training finished...\n",
      "Loaded model from disk\n",
      "Sending healthy window downstream to the neural network...\n",
      "***************************************************************************Training finished...\n",
      "Loaded model from disk\n",
      "Sending healthy window downstream to the neural network...\n",
      "***************************************************************************Training finished...\n",
      "Loaded model from disk\n",
      "Sending healthy window downstream to the neural network...\n",
      "***************************************************************************Training finished...\n",
      "Loaded model from disk\n",
      "Sending healthy window downstream to the neural network...\n",
      "***************************************************************************Training finished...\n",
      "Loaded model from disk\n",
      "Sending healthy window downstream to the neural network...\n",
      "***************************************************************************Training finished...\n",
      "Loaded model from disk\n",
      "Sending healthy window downstream to the neural network...\n",
      "***************************************************************************Training finished...\n",
      "Loaded model from disk\n",
      "Sending healthy window downstream to the neural network...\n",
      "***************************************************************************Training finished...\n",
      "Loaded model from disk\n",
      "Sending healthy window downstream to the neural network...\n",
      "***************************************************************************Training finished...\n",
      "Loaded model from disk\n",
      "Sending healthy window downstream to the neural network...\n",
      "***************************************************************************Training finished...\n",
      "Loaded model from disk\n",
      "Sending healthy window downstream to the neural network...\n",
      "***************************************************************************Training finished...\n",
      "Loaded model from disk\n",
      "Sending healthy window downstream to the neural network...\n",
      "***************************************************************************Training finished...\n",
      "Loaded model from disk\n",
      "Sending healthy window downstream to the neural network...\n",
      "***************************************************************************Training finished...\n",
      "Loaded model from disk\n",
      "Sending healthy window downstream to the neural network...\n",
      "***************************************************************************Training finished...\n",
      "Loaded model from disk\n",
      "Sending healthy window downstream to the neural network...\n",
      "***************************************************************************Training finished...\n",
      "Loaded model from disk\n",
      "Sending healthy window downstream to the neural network...\n",
      "***************************************************************************Training finished...\n",
      "Loaded model from disk\n",
      "Sending healthy window downstream to the neural network...\n",
      "***************************************************************************Training finished...\n",
      "Loaded model from disk\n",
      "Sending healthy window downstream to the neural network...\n",
      "***************************************************************************Training finished...\n",
      "Loaded model from disk\n",
      "Sending healthy window downstream to the neural network...\n",
      "***************************************************************************Training finished...\n",
      "Loaded model from disk\n",
      "Sending healthy window downstream to the neural network...\n",
      "***************************************************************************Training finished...\n",
      "Loaded model from disk\n",
      "Sending healthy window downstream to the neural network...\n",
      "***************************************************************************Training finished...\n",
      "Loaded model from disk\n",
      "Sending healthy window downstream to the neural network...\n",
      "***************************************************************************Training finished...\n",
      "Loaded model from disk\n",
      "Sending healthy window downstream to the neural network...\n",
      "***************************************************************************Training finished...\n",
      "Loaded model from disk\n",
      "Sending healthy window downstream to the neural network...\n",
      "***************************************************************************Training finished...\n",
      "Loaded model from disk\n",
      "Sending healthy window downstream to the neural network...\n",
      "***************************************************************************Training finished...\n",
      "Loaded model from disk\n",
      "Sending healthy window downstream to the neural network...\n",
      "***************************************************************************Training finished...\n",
      "Loaded model from disk\n",
      "Sending healthy window downstream to the neural network...\n",
      "***************************************************************************Training finished...\n",
      "Loaded model from disk\n",
      "Sending healthy window downstream to the neural network...\n",
      "***************************************************************************Training finished...\n",
      "Loaded model from disk\n",
      "Sending healthy window downstream to the neural network...\n",
      "***************************************************************************Training finished...\n",
      "Loaded model from disk\n",
      "Sending healthy window downstream to the neural network...\n",
      "***************************************************************************Training finished...\n",
      "Loaded model from disk\n",
      "Sending healthy window downstream to the neural network...\n"
     ]
    }
   ],
   "source": [
    "while True:\n",
    "    while not q.empty() and simulator_status=='disablesimulator':\n",
    "        if simulator_status == 'disablesimulator':\n",
    "            sys.stdout.write('.')\n",
    "            sys.stdout.flush()\n",
    "            point = q.get()\n",
    "            try:\n",
    "                data\n",
    "            except NameError:\n",
    "                data = np.array(point)\n",
    "            else:\n",
    "                data = np.append(data,point)\n",
    "            if data.size>=9000:\n",
    "                data = np.reshape(data,(3000,3))\n",
    "                print \"Sending window downstream to the neural network...\"\n",
    "                doNN(data)\n",
    "                print \"Training finished...\"\n",
    "                del data\n",
    "    if simulator_status == 'simulatehealthy':\n",
    "        reloadModel()\n",
    "        data_healthy = pickle.load(open('watsoniotp.healthy.phase_aligned.pickle', 'rb'))\n",
    "        data_healthy = data_healthy.reshape(3000,3)\n",
    "        print \"Sending healthy window downstream to the neural network...\"\n",
    "        doNN(data_healthy)\n",
    "        print \"Training finished...\"\n",
    "    if simulator_status == 'simulatebroken':\n",
    "        simulator_status = 'simulatehealthy'\n",
    "        data_broken = pickle.load(open('watsoniotp.broken.phase_aligned.pickle', 'rb'))\n",
    "        data_broken = data_broken.reshape(3000,3)\n",
    "        print \"Sending broken window downstream to the neural network...\"\n",
    "        doNN(data_broken)\n",
    "        print \"Training finished......\"\n",
    "        client.publishEvent(\"0.16.2\", \"lorenz\", \"alert\", \"json\", {'message' : 'no alert'})\n",
    "        client.publishEvent(\"0.16.2\", \"lorenz\", \"to_healthy\", \"json\", {'message' : 'healthy'})\n",
    "        reloadModel()\n",
    "            \n"
   ]
  },
  {
   "cell_type": "code",
   "execution_count": null,
   "metadata": {
    "collapsed": true
   },
   "outputs": [],
   "source": []
  }
 ],
 "metadata": {
  "kernelspec": {
   "display_name": "Python 2 with Spark 2.1",
   "language": "python",
   "name": "python2-spark21"
  },
  "language_info": {
   "codemirror_mode": {
    "name": "ipython",
    "version": 2
   },
   "file_extension": ".py",
   "mimetype": "text/x-python",
   "name": "python",
   "nbconvert_exporter": "python",
   "pygments_lexer": "ipython2",
   "version": "2.7.11"
  }
 },
 "nbformat": 4,
 "nbformat_minor": 1
}
