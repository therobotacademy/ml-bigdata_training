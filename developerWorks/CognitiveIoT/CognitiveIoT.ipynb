{
 "cells": [
  {
   "cell_type": "code",
   "execution_count": 14,
   "metadata": {
    "collapsed": true
   },
   "outputs": [],
   "source": [
    "def readDataFrameFromCloudant(host,user,pw,database):\n",
    "    sparkSession = SQLContext.getOrCreate(sc).sparkSession\n",
    "\n",
    "    cloudantdata=sparkSession.read.format(\"com.cloudant.spark\"). \\\n",
    "    option(\"cloudant.host\",host). \\\n",
    "    option(\"cloudant.username\", user). \\\n",
    "    option(\"cloudant.password\", pw). \\\n",
    "    load(database)\n",
    "\n",
    "    cloudantdata.createOrReplaceTempView(\"washing\")\n",
    "    #spark.sql(\"SELECT * from washing\").show()\n",
    "    return cloudantdata"
   ]
  },
  {
   "cell_type": "code",
   "execution_count": 15,
   "metadata": {
    "collapsed": false
   },
   "outputs": [],
   "source": [
    "#TODO Please provide your Cloudant credentials here\n",
    "hostname = \"pleasePutYourCredentialsHere\"\n",
    "user = \"pleasePutYourCredentialsHere\"\n",
    "pw = \"pleasePutYourCredentialsHere\"\n",
    "database = \"washing\" #as long as you didn't change this in the NodeRED flow the database name stays the same\n",
    "cloudantdata=readDataFrameFromCloudant(hostname, user, pw, database)"
   ]
  },
  {
   "cell_type": "code",
   "execution_count": 16,
   "metadata": {
    "collapsed": false
   },
   "outputs": [],
   "source": [
    "#spark.sql(\"select avg(voltage), std(voltage), max(voltage) from washing\").show()"
   ]
  },
  {
   "cell_type": "code",
   "execution_count": 17,
   "metadata": {
    "collapsed": false
   },
   "outputs": [
    {
     "name": "stdout",
     "output_type": "stream",
     "text": [
      "+--------------------+\n",
      "|           avgzscore|\n",
      "+--------------------+\n",
      "|1.020956917482053158|\n",
      "+--------------------+\n",
      "\n"
     ]
    }
   ],
   "source": [
    "df = spark.sql(\"\"\"\n",
    "select mean(voltage) as mean, std(voltage) as std from (\n",
    "    SELECT ROW_NUMBER() OVER (ORDER BY ts desc) AS row, * FROM washing where voltage is not null\n",
    ") where\n",
    "row < 30\n",
    "\"\"\")\n",
    "               \n",
    "#df.show()\n",
    "mean = df.first().mean\n",
    "std = df.first().std\n",
    "#spark.sql(\"SELECT * from (select abs( ({0}-voltage)/({1}+0.0001) ) as zscore, voltage,ROW_NUMBER() OVER (ORDER BY ts desc) AS row FROM washing where voltage is not null order by ts desc) where row < 20\".format(mean,std)).show()\n",
    "df = spark.sql(\"SELECT mean(zscore) as avgzscore from (select abs( ({0}-voltage)/({1}+0.0001) ) as zscore, voltage,ROW_NUMBER() OVER (ORDER BY ts desc) AS row FROM washing where voltage is not null order by ts desc) where row < 20\".format(mean,std))\n",
    "df.show()"
   ]
  },
  {
   "cell_type": "code",
   "execution_count": 18,
   "metadata": {
    "collapsed": true
   },
   "outputs": [],
   "source": [
    "zscore = df.first().avgzscore"
   ]
  },
  {
   "cell_type": "code",
   "execution_count": 19,
   "metadata": {
    "collapsed": false
   },
   "outputs": [],
   "source": [
    "import requests\n",
    "if (zscore > 0.5):\n",
    "    r = requests.get(\"https://1234thisismyname.mybluemix.net/edgemodelupdate?command=emergencyshutdown\")\n",
    "    r.status_code"
   ]
  }
 ],
 "metadata": {
  "kernelspec": {
   "display_name": "Python 2 with Spark 2.0",
   "language": "python",
   "name": "python2-spark20"
  },
  "language_info": {
   "codemirror_mode": {
    "name": "ipython",
    "version": 2
   },
   "file_extension": ".py",
   "mimetype": "text/x-python",
   "name": "python",
   "nbconvert_exporter": "python",
   "pygments_lexer": "ipython2",
   "version": "2.7.11"
  }
 },
 "nbformat": 4,
 "nbformat_minor": 0
}